{
 "cells": [
  {
   "cell_type": "code",
   "execution_count": 1,
   "id": "823fa089",
   "metadata": {},
   "outputs": [],
   "source": [
    "import torch\n",
    "import torch.version\n",
    "from torch.utils.data import Dataset, DataLoader\n",
    "import torch.nn as nn\n",
    "import matplotlib.pyplot as plt\n",
    "import numpy as np\n",
    "import pandas as pd\n",
    "import sys\n",
    "import os"
   ]
  },
  {
   "cell_type": "code",
   "execution_count": 3,
   "id": "bf3d4b29",
   "metadata": {},
   "outputs": [
    {
     "name": "stdout",
     "output_type": "stream",
     "text": [
      "tensor([[0.2016, 0.9716, 0.7735],\n",
      "        [0.9940, 0.0646, 0.3932],\n",
      "        [0.4673, 0.1005, 0.5944],\n",
      "        [0.6341, 0.1275, 0.1764],\n",
      "        [0.2985, 0.0864, 0.7800]])\n",
      "True\n",
      "NVIDIA GeForce RTX 3070 Laptop GPU\n",
      "0\n",
      "12.6\n"
     ]
    }
   ],
   "source": [
    "print(torch.rand(5, 3))\n",
    "print(torch.cuda.is_available())\n",
    "print(torch.cuda.get_device_name())\n",
    "print (torch.cuda.current_device())\n",
    "print (torch.version.cuda)"
   ]
  },
  {
   "cell_type": "code",
   "execution_count": null,
   "id": "55c5c537",
   "metadata": {},
   "outputs": [],
   "source": []
  }
 ],
 "metadata": {
  "kernelspec": {
   "display_name": "Python 3",
   "language": "python",
   "name": "python3"
  },
  "language_info": {
   "codemirror_mode": {
    "name": "ipython",
    "version": 3
   },
   "file_extension": ".py",
   "mimetype": "text/x-python",
   "name": "python",
   "nbconvert_exporter": "python",
   "pygments_lexer": "ipython3",
   "version": "3.12.9"
  }
 },
 "nbformat": 4,
 "nbformat_minor": 5
}
